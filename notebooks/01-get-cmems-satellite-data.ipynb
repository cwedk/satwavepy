{
 "cells": [
  {
   "cell_type": "markdown",
   "metadata": {},
   "source": [
    "### Download satellite altimeter from the CMEMS wave TAC product\n",
    "\n",
    "- requires cmems username and password "
   ]
  },
  {
   "cell_type": "code",
   "execution_count": 11,
   "metadata": {},
   "outputs": [
    {
     "name": "stdout",
     "output_type": "stream",
     "text": [
      "username:password:"
     ]
    },
    {
     "name": "stderr",
     "output_type": "stream",
     "text": [
      "INFO - 2024-09-06T13:57:58Z - Dataset version was not specified, the latest one was selected: \"202211\"\n",
      "INFO - 2024-09-06T13:57:58Z - Dataset part was not specified, the first one was selected: \"default\"\n",
      "INFO - 2024-09-06T13:57:58Z - Service was not specified, the default one was selected: \"original-files\"\n",
      "INFO - 2024-09-06T13:57:58Z - Downloading using service original-files...\n",
      "INFO - 2024-09-06T13:58:01Z - You requested the download of the following files:\n",
      "s3://mdl-native-05/native/WAVE_GLO_PHY_SWH_L3_NRT_014_001/cmems_obs-wave_glo_phy-swh_nrt_cfo-l3_PT1S_202211/2022/01/global_vavh_l3_rt_cfo_20220127T000000_20220127T030000_20220624T090522.nc - 154.81 kB - 2023-11-03T18:11:41Z\n",
      "s3://mdl-native-05/native/WAVE_GLO_PHY_SWH_L3_NRT_014_001/cmems_obs-wave_glo_phy-swh_nrt_cfo-l3_PT1S_202211/2022/01/global_vavh_l3_rt_cfo_20220127T030000_20220127T060000_20220624T090518.nc - 166.36 kB - 2023-11-03T18:11:41Z\n",
      "s3://mdl-native-05/native/WAVE_GLO_PHY_SWH_L3_NRT_014_001/cmems_obs-wave_glo_phy-swh_nrt_cfo-l3_PT1S_202211/2022/01/global_vavh_l3_rt_cfo_20220127T060000_20220127T090000_20220624T090620.nc - 180.90 kB - 2023-11-03T18:11:41Z\n",
      "s3://mdl-native-05/native/WAVE_GLO_PHY_SWH_L3_NRT_014_001/cmems_obs-wave_glo_phy-swh_nrt_cfo-l3_PT1S_202211/2022/01/global_vavh_l3_rt_cfo_20220127T090000_20220127T120000_20220624T090613.nc - 153.27 kB - 2023-11-03T18:11:41Z\n",
      "s3://mdl-native-05/native/WAVE_GLO_PHY_SWH_L3_NRT_014_001/cmems_obs-wave_glo_phy-swh_nrt_cfo-l3_PT1S_202211/2022/01/global_vavh_l3_rt_cfo_20220127T120000_20220127T150000_20220624T090634.nc - 142.67 kB - 2023-11-03T18:11:41Z\n",
      "s3://mdl-native-05/native/WAVE_GLO_PHY_SWH_L3_NRT_014_001/cmems_obs-wave_glo_phy-swh_nrt_cfo-l3_PT1S_202211/2022/01/global_vavh_l3_rt_cfo_20220127T150000_20220127T180000_20220624T090713.nc - 176.17 kB - 2023-11-03T18:11:41Z\n",
      "s3://mdl-native-05/native/WAVE_GLO_PHY_SWH_L3_NRT_014_001/cmems_obs-wave_glo_phy-swh_nrt_cfo-l3_PT1S_202211/2022/01/global_vavh_l3_rt_cfo_20220127T180000_20220127T210000_20220624T090542.nc - 182.22 kB - 2023-11-03T18:11:41Z\n",
      "s3://mdl-native-05/native/WAVE_GLO_PHY_SWH_L3_NRT_014_001/cmems_obs-wave_glo_phy-swh_nrt_cfo-l3_PT1S_202211/2022/01/global_vavh_l3_rt_cfo_20220127T210000_20220128T000000_20220624T090712.nc - 145.99 kB - 2023-11-03T18:11:41Z\n",
      "\n",
      "Total size of the download: 1.30 MB\n",
      "\n",
      "\n",
      "100%|██████████| 8/8 [00:01<00:00,  7.30it/s]"
     ]
    },
    {
     "name": "stdout",
     "output_type": "stream",
     "text": [
      "('List of saved files for start date 20220127: '\n",
      " \"[PosixPath('/p/i1000617-phd-waveda/dev/satwavepy/data/raw/satellite/cfo/global_vavh_l3_rt_cfo_20220127T000000_20220127T030000_20220624T090522.nc'), \"\n",
      " \"PosixPath('/p/i1000617-phd-waveda/dev/satwavepy/data/raw/satellite/cfo/global_vavh_l3_rt_cfo_20220127T030000_20220127T060000_20220624T090518.nc'), \"\n",
      " \"PosixPath('/p/i1000617-phd-waveda/dev/satwavepy/data/raw/satellite/cfo/global_vavh_l3_rt_cfo_20220127T060000_20220127T090000_20220624T090620.nc'), \"\n",
      " \"PosixPath('/p/i1000617-phd-waveda/dev/satwavepy/data/raw/satellite/cfo/global_vavh_l3_rt_cfo_20220127T090000_20220127T120000_20220624T090613.nc'), \"\n",
      " \"PosixPath('/p/i1000617-phd-waveda/dev/satwavepy/data/raw/satellite/cfo/global_vavh_l3_rt_cfo_20220127T120000_20220127T150000_20220624T090634.nc'), \"\n",
      " \"PosixPath('/p/i1000617-phd-waveda/dev/satwavepy/data/raw/satellite/cfo/global_vavh_l3_rt_cfo_20220127T150000_20220127T180000_20220624T090713.nc'), \"\n",
      " \"PosixPath('/p/i1000617-phd-waveda/dev/satwavepy/data/raw/satellite/cfo/global_vavh_l3_rt_cfo_20220127T180000_20220127T210000_20220624T090542.nc'), \"\n",
      " \"PosixPath('/p/i1000617-phd-waveda/dev/satwavepy/data/raw/satellite/cfo/global_vavh_l3_rt_cfo_20220127T210000_20220128T000000_20220624T090712.nc')]\")\n"
     ]
    },
    {
     "name": "stderr",
     "output_type": "stream",
     "text": [
      "\n"
     ]
    }
   ],
   "source": [
    "# Import the necessary modules\n",
    "import copernicusmarine\n",
    "from pprint import pprint\n",
    "\n",
    "# Define the dataset ID and product ID \n",
    "# See prefixes: https://data.marine.copernicus.eu/product/WAVE_GLO_PHY_SWH_L3_NRT_014_001/services\n",
    "SAT_ID = \"cfo\" # j3, s3a, s3b, cfo, c2, h2b, h2c, s6a, swon, al\n",
    "PRODUCT_ID = 'WAVE_GLO_PHY_SWH_L3_NRT_014_001'\n",
    "DATASET_ID =  f'cmems_obs-wave_glo_phy-swh_nrt_{SAT_ID}-l3_PT1S'#'cmems_obs-wave_glo_phy-swh_nrt_s3a-l3_PT1S'\n",
    "\n",
    "# Define the year and month\n",
    "year = '2022'\n",
    "month = '01'\n",
    "\n",
    "# Define the end date\n",
    "end_date = '03'\n",
    "\n",
    "# Define the output directory\n",
    "output_directory = f'/p/i1000617-phd-waveda/dev/satwavepy/data/raw/satellite/{SAT_ID}/'\n",
    "\n",
    "# Define the start dates range\n",
    "start_dates = range(31, 32)  # Inclusive range from 27 to 31\n",
    "\n",
    "# Loop through the start dates\n",
    "for start_date in start_dates:\n",
    "    # Define the filter pattern for the desired files # json3: cmems_obs-wave_glo_phy-swh_nrt_j3-l3_PT1S\n",
    "    filter_pattern = f'global_vavh_l3_rt_{SAT_ID}_{year}{month}{start_date:02d}*.nc'\n",
    "\n",
    "    # Call the get function to retrieve the files\n",
    "    get_result = copernicusmarine.get(\n",
    "        dataset_id=DATASET_ID,\n",
    "        filter=filter_pattern,\n",
    "        output_directory=output_directory,\n",
    "        no_directories=True\n",
    "    )\n",
    "\n",
    "    # Print the list of downloaded files\n",
    "    pprint(f\"List of saved files for start date {year}{month}{start_date:02d}: {get_result}\")\n"
   ]
  },
  {
   "cell_type": "code",
   "execution_count": null,
   "metadata": {},
   "outputs": [],
   "source": []
  },
  {
   "cell_type": "markdown",
   "metadata": {},
   "source": []
  }
 ],
 "metadata": {
  "kernelspec": {
   "display_name": "cmems_sat_lab",
   "language": "python",
   "name": "python3"
  },
  "language_info": {
   "codemirror_mode": {
    "name": "ipython",
    "version": 3
   },
   "file_extension": ".py",
   "mimetype": "text/x-python",
   "name": "python",
   "nbconvert_exporter": "python",
   "pygments_lexer": "ipython3",
   "version": "3.12.5"
  }
 },
 "nbformat": 4,
 "nbformat_minor": 2
}
